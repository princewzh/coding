{
 "cells": [
  {
   "cell_type": "markdown",
   "metadata": {},
   "source": [
    "TeX 是一种由Donald Knuth 所发展出的一套文书排版软体。这套软体可以将原始文件档加上一些像字型等型态后，转成一份很漂亮的文件。而一份漂亮的文件是需要用`` 和\" 来把别人说的话给「引」出来，而不是用大部份键盘上有的\" 。虽然键盘里通常不会有这种有方向的双引号键，不过上面有左单引号` （有人叫backquote ），和右单引号' （有人叫apostrophe 或quote ）。你可以在你的键盘上找一下，不过要小心不要将` 与\\ （ backslash 键）搞混了。而在TeX 里，使用者可以输入两个左单引号`` 来构成一个左双引号`` ，或者是两个右单引号'' 来构造一个右单引号'' ，不过呢，通常大家打字时都很习惯用普通的双引号\" 来引述别人的话。\n",
    "\n",
    "如果原始文件档内容是：\n",
    "\n",
    "\"To be or not to be,\" quoth the bard, \"that is the question.\"\n",
    "\n",
    "则TeX 作出来的文件并不会是我们所想要的：\n",
    "\n",
    "``To be or not to be,\" quoth the bard, ``that is the question.\"\n",
    "\n",
    "为了要得到上面的文件，我们需要把原始文件变成这个样子：\n",
    "\n",
    "``To be or not to be,'' quoth the bard, ``that is the question.''\n",
    "\n",
    "你现在必须要写一个程式，将普通的双引号（\"），转成有方向性的双引号，而其它文字则不变。而在把普通的双引号换掉的时候，要特别注意，当要开始引述一句话时要用`` ，而结束引述时要用'' 。不用担心会有多层巢状引号的情形，也就是第一个引号一定是用`` 来代替，再来用'' ，然后用`` ，接着用'' ，依此类推。\n",
    "\n",
    "Input and Output\n",
    "\n",
    "输入是若干列的文字，其中有偶数个双引号（ \" ），以end-of-file 做结束。输出的文字必须和输入的一模一样，除了：\n",
    "\n",
    "每一组双引号的第一个\" 必须用两个` 字元（就是`` ）来代替\n",
    "每一组双引号的第二个\" 必须用两个' 字元（ 就是''）来代替。\n"
   ]
  },
  {
   "cell_type": "code",
   "execution_count": 34,
   "metadata": {},
   "outputs": [],
   "source": [
    "def convert_q_q(s):\n",
    "    tag = 0\n",
    "    s_new = \"\"\n",
    "    for i in s:\n",
    "        if i == \"\\\"\" and tag%2 == 0:\n",
    "            s_new = s_new + '`'\n",
    "            tag = tag + 1\n",
    "        elif i == \"\\\"\" and tag%2 ==1:\n",
    "            s_new = s_new + '``'\n",
    "            tag = tag + 1\n",
    "        else:\n",
    "            s_new = s_new + i\n",
    "    return s_new"
   ]
  },
  {
   "cell_type": "code",
   "execution_count": 36,
   "metadata": {},
   "outputs": [
    {
     "data": {
      "text/plain": [
       "'`as``dfa`s``df'"
      ]
     },
     "execution_count": 36,
     "metadata": {},
     "output_type": "execute_result"
    }
   ],
   "source": [
    "convert_q_q(\"\\\"as\\\"dfa\\\"s\\\"df\")"
   ]
  },
  {
   "cell_type": "markdown",
   "metadata": {},
   "source": [
    "首先输入单词，然后输入几个句子，最后输出哪一个句子里面包含的单词数最多，可以重复计算句子里面出现的一样的单词。"
   ]
  },
  {
   "cell_type": "code",
   "execution_count": 35,
   "metadata": {},
   "outputs": [],
   "source": [
    "import numpy as np\n",
    "def getSentence(x,y):\n",
    "    '''\n",
    "    x: list,查找的单词\n",
    "    y: list,句子集合\n",
    "    '''\n",
    "    counts = [0 for i in range(len(y))]\n",
    "    for j,sen in enumerate(y):\n",
    "        lsen = sen.split()\n",
    "        dicsen = {}\n",
    "        score = 0\n",
    "        for i in lsen:\n",
    "            if i in dicsen:\n",
    "                dicsen[i] = dicsen[i] + 1\n",
    "            else:\n",
    "                dicsen[i] = 1\n",
    "        for word in x:\n",
    "            if word in dicsen.keys():\n",
    "                score = score + dicsen[word]\n",
    "            else:\n",
    "                pass\n",
    "        counts[j] = score\n",
    "    return np.argmax(counts) + 1 #返回第几个句子"
   ]
  },
  {
   "cell_type": "code",
   "execution_count": 36,
   "metadata": {},
   "outputs": [
    {
     "data": {
      "text/plain": [
       "2"
      ]
     },
     "execution_count": 36,
     "metadata": {},
     "output_type": "execute_result"
    }
   ],
   "source": [
    "getSentence(['a','dog'],['this is a dog','this is a dog dog'])"
   ]
  },
  {
   "cell_type": "code",
   "execution_count": null,
   "metadata": {},
   "outputs": [],
   "source": []
  }
 ],
 "metadata": {
  "kernelspec": {
   "display_name": "Python 3",
   "language": "python",
   "name": "python3"
  },
  "language_info": {
   "codemirror_mode": {
    "name": "ipython",
    "version": 3
   },
   "file_extension": ".py",
   "mimetype": "text/x-python",
   "name": "python",
   "nbconvert_exporter": "python",
   "pygments_lexer": "ipython3",
   "version": "3.7.4"
  }
 },
 "nbformat": 4,
 "nbformat_minor": 2
}
